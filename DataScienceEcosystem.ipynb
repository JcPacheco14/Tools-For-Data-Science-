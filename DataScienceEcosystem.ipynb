{
 "cells": [
  {
   "cell_type": "markdown",
   "id": "9514bfbb-dc8d-441b-98e1-2396cfb759f8",
   "metadata": {},
   "source": [
    "# Data Science Tools and Ecosystem"
   ]
  },
  {
   "cell_type": "markdown",
   "id": "0effab2b-cd7e-4d65-84cb-de0d99b706bf",
   "metadata": {},
   "source": [
    "This notebook will summarize different Data Science tools and Ecosystem."
   ]
  },
  {
   "cell_type": "markdown",
   "id": "4f31e21d-0da4-4f55-9f2e-b110e7d4c5b4",
   "metadata": {},
   "source": [
    "Some of the main \n",
    "*Objectives*\n",
    "- List of popular libraries for Data Science\n",
    "- List of popular Languages used by Data Scientists\n",
    "- Different arithmetic expressions \n",
    "- Different heading options\n",
    "- Tables Creation "
   ]
  },
  {
   "cell_type": "markdown",
   "id": "48366e9b-6df4-404a-9996-c9a2054c2ad7",
   "metadata": {},
   "source": [
    "Some of the popular languages used by Data Scientists are:\n",
    "1. python \n",
    "2. SQL\n",
    "4. Java \n",
    "3. R\n",
    "5. JavaScript "
   ]
  },
  {
   "cell_type": "markdown",
   "id": "a164ce8a-56c9-494e-b5cb-e68e7e6aff31",
   "metadata": {},
   "source": [
    "Some libraries frequently used by data scientists are:\n",
    "1. NumPy \n",
    "2. Kera\n",
    "3. Pandas\n",
    "4. Pytorch \n",
    "5. SciPy"
   ]
  },
  {
   "cell_type": "markdown",
   "id": "68d760ea-74e8-4d91-9a02-8c78cbae70ab",
   "metadata": {},
   "source": [
    "|Data Science Tools|\n",
    "|---|\n",
    "|RStudio|\n",
    "|Jupyter Notebook|\n",
    "|Spyder|\n",
    "\n",
    "\n"
   ]
  },
  {
   "cell_type": "markdown",
   "id": "f9c5cd56-faea-4f59-8699-14d75ba047b5",
   "metadata": {},
   "source": [
    "### Below are a few of evaluating arithmetic expressions in python."
   ]
  },
  {
   "cell_type": "code",
   "execution_count": 8,
   "id": "5868f789-7848-4e0f-a790-88af03c7b732",
   "metadata": {
    "tags": []
   },
   "outputs": [
    {
     "data": {
      "text/plain": [
       "17"
      ]
     },
     "execution_count": 8,
     "metadata": {},
     "output_type": "execute_result"
    }
   ],
   "source": [
    "# A simple arithmetic expression to multoply then add integers.\n",
    "(3*4)+5"
   ]
  },
  {
   "cell_type": "code",
   "execution_count": 12,
   "id": "641724f6-639c-4715-a89a-c3ffcfa0f074",
   "metadata": {
    "tags": []
   },
   "outputs": [
    {
     "data": {
      "text/plain": [
       "3.3333333333333335"
      ]
     },
     "execution_count": 12,
     "metadata": {},
     "output_type": "execute_result"
    }
   ],
   "source": [
    "# This cell will convert 200 min into hours dividin by 60.\n",
    "\n",
    "Minutes = 200\n",
    "\n",
    "(Minutes / 60)"
   ]
  },
  {
   "cell_type": "markdown",
   "id": "5982959d-e0b5-4924-b1f5-6143c7ce2685",
   "metadata": {},
   "source": [
    "## Author \n",
    "Jean Pacheco "
   ]
  }
 ],
 "metadata": {
  "kernelspec": {
   "display_name": "Python",
   "language": "python",
   "name": "conda-env-python-py"
  },
  "language_info": {
   "codemirror_mode": {
    "name": "ipython",
    "version": 3
   },
   "file_extension": ".py",
   "mimetype": "text/x-python",
   "name": "python",
   "nbconvert_exporter": "python",
   "pygments_lexer": "ipython3",
   "version": "3.7.12"
  }
 },
 "nbformat": 4,
 "nbformat_minor": 5
}
