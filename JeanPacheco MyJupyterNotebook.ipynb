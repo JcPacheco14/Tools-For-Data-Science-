{
 "cells": [
  {
   "cell_type": "markdown",
   "id": "5011d258-0c1f-4076-ade3-3ca21cf887c8",
   "metadata": {
    "tags": []
   },
   "source": [
    "# My Jupiter Notebook on IBM Watson Studio"
   ]
  },
  {
   "cell_type": "markdown",
   "id": "968900f1-ff0f-4236-a96a-98054bce7342",
   "metadata": {},
   "source": [
    "**Jean Carlos Pacheco**\n",
    "\n",
    "I'm an Industrial Engineer at a clinical manufacturing site for the pharmaceutical industry."
   ]
  },
  {
   "cell_type": "markdown",
   "id": "169bc768-e8a5-41b3-98d9-02396af4f374",
   "metadata": {},
   "source": [
    "*As a Industrial Engineer we have to be looking for new opportunities or activities to improve our processes. Having training in data science will provide me a new set of tools to tackle the problems we encounter on a daily bases from a different perspective.*"
   ]
  },
  {
   "cell_type": "markdown",
   "id": "6b3a47ea-0a41-4029-a3bd-37500f0d1184",
   "metadata": {
    "tags": []
   },
   "source": [
    "### The following code will calculate the product of 2 factors. "
   ]
  },
  {
   "cell_type": "code",
   "execution_count": 9,
   "id": "474c41fa-64fd-4614-bcc9-39333276861a",
   "metadata": {},
   "outputs": [
    {
     "name": "stdout",
     "output_type": "stream",
     "text": [
      "45\n"
     ]
    }
   ],
   "source": [
    "FactorA = 9 \n",
    "FactorB = 5 \n",
    "\n",
    "print(FactorA *FactorB)"
   ]
  },
  {
   "cell_type": "markdown",
   "id": "75bd9ae3-8a07-46f4-884c-9d66ca645eb7",
   "metadata": {},
   "source": [
    " `Listing` | Linking | `Coding` \n",
    "---|---|---\n",
    "Bulleted | hyperlinks | highlighting\n",
    "Numbered | Image | Blocked quotes \n",
    "***\n",
    "\n",
    "> 1. Table\n",
    "> 7. Numbered list \n",
    "> 3. Bulleted list\n",
    "___\n",
    "- Hyperlinks\n",
    "+ Image\n",
    "- Highlighting\n",
    "---\n",
    " https://online.stat.psu.edu/statprogram/sites/statprogram/files/2018-08/statistics-review.jpg"
   ]
  },
  {
   "cell_type": "code",
   "execution_count": null,
   "id": "7bcc2538-ff37-4140-a940-73898d9922c8",
   "metadata": {},
   "outputs": [],
   "source": []
  }
 ],
 "metadata": {
  "kernelspec": {
   "display_name": "Python",
   "language": "python",
   "name": "conda-env-python-py"
  },
  "language_info": {
   "codemirror_mode": {
    "name": "ipython",
    "version": 3
   },
   "file_extension": ".py",
   "mimetype": "text/x-python",
   "name": "python",
   "nbconvert_exporter": "python",
   "pygments_lexer": "ipython3",
   "version": "3.7.12"
  }
 },
 "nbformat": 4,
 "nbformat_minor": 5
}
